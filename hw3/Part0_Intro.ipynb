{
 "cells": [
  {
   "cell_type": "markdown",
   "metadata": {},
   "source": [
    "# CS236781: Deep Learning on Computational Accelerators\n",
    "# Homework Assignment 3\n",
    "\n",
    "Faculty of Computer Science, Technion."
   ]
  },
  {
   "cell_type": "markdown",
   "metadata": {},
   "source": [
    "Submitted by:\n",
    "\n",
    "| #       |              Name |             Id |             email |\n",
    "|---------|-------------------|----------------|------------------ |\n",
    "|Student 1|  [your name here] | [your id here] | [your email here] |\n",
    "|Student 2|  [your name here] | [your id here] | [your email here] |"
   ]
  },
  {
   "cell_type": "markdown",
   "metadata": {},
   "source": [
    "## Introduction\n",
    "\n",
    "In this assignment we'll create a from-scratch implementation of two fundemental deep learning concepts: the backpropagation algorithm and stochastic gradient descent-based optimizers.\n",
    "Following that, we'll focus on sequences, and learn to generate text with a deep multilayer RNN network based on GRU cells."
   ]
  },
  {
   "cell_type": "markdown",
   "metadata": {},
   "source": [
    "## General Guidelines\n",
    "\n",
    "- Please read the [getting started page](https://vistalab-technion.github.io/cs236781/assignments/getting-started) on the course website. It explains how to **setup, run and submit** the assignment.\n",
    "- Please read the [course servers usage guide](https://vistalab-technion.github.io/cs236781/assignments/hpc-servers). It explains how to use and run your code on the course servers to benefit from training with GPUs.\n",
    "- The text and code cells in these notebooks are intended to guide you through the\n",
    "  assignment and help you verify your solutions.\n",
    "  The notebooks **do not need to be edited** at all (unless you wish to play around).\n",
    "  The only exception is to fill your name(s) in the above cell before submission.\n",
    "  Please do not remove sections or change the order of any cells.\n",
    "- All your code (and even answers to questions) should be written in the files\n",
    "  within the python package corresponding the assignment number (`hw1`, `hw2`, etc).\n",
    "  You can of course use any editor or IDE to work on these files.\n"
   ]
  },
  {
   "cell_type": "markdown",
   "metadata": {},
   "source": [
    "## Contents\n",
    "- [Part1: Backpropagation](#part1)\n",
    "    - [Comparison with PyTorch](#part1_1)\n",
    "    - [Layer Implementations](#part1_2)\n",
    "    - [Building Models](#part1_3)\n",
    "- [Part 2: Optimization and Training](#part2):\n",
    "    - [Implementing Optimization Algorithms](#part2_1)\n",
    "    - [Vanilla SGD with Regularization](#part2_2)\n",
    "    - [Training](#part2_3)\n",
    "    - [Momentum](#part2_4)\n",
    "    - [RMSProp](#part2_5)\n",
    "    - [Dropout Regularization](#part2_6)\n",
    "    - [Questions](#part2_7)\n",
    "- [Part3: Sequence Models](#part3)\n",
    "    - [Text generation with a char-level RNN](#part3_1)\n",
    "    - [Obtaining the corpus](#part3_2)\n",
    "    - [Data Preprocessing](#part3_3)\n",
    "    - [Dataset Creation](#part3_4)\n",
    "    - [Model Implementation](#part3_5)\n",
    "    - [Generating text by sampling](#part3_6)\n",
    "    - [Training](#part3_7)\n",
    "    - [Generating a work of art](#part3_8)\n",
    "    - [Questions](#part3_9)"
   ]
  }
 ],
 "metadata": {
  "kernelspec": {
   "display_name": "Python 3 (ipykernel)",
   "language": "python",
   "name": "python3"
  },
  "language_info": {
   "codemirror_mode": {
    "name": "ipython",
    "version": 3
   },
   "file_extension": ".py",
   "mimetype": "text/x-python",
   "name": "python",
   "nbconvert_exporter": "python",
   "pygments_lexer": "ipython3",
   "version": "3.8.12"
  }
 },
 "nbformat": 4,
 "nbformat_minor": 4
}
